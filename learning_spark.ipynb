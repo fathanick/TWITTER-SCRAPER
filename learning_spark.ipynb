{
 "cells": [
  {
   "cell_type": "code",
   "execution_count": 1,
   "id": "5a47eaf1",
   "metadata": {},
   "outputs": [
    {
     "name": "stdout",
     "output_type": "stream",
     "text": [
      "22/12/16 22:06:53 WARN Utils: Your hostname, cds-tesla resolves to a loopback address: 127.0.1.1; using 10.30.31.65 instead (on interface eno0)\n",
      "22/12/16 22:06:53 WARN Utils: Set SPARK_LOCAL_IP if you need to bind to another address\n"
     ]
    },
    {
     "name": "stderr",
     "output_type": "stream",
     "text": [
      "Setting default log level to \"WARN\".\n",
      "To adjust logging level use sc.setLogLevel(newLevel). For SparkR, use setLogLevel(newLevel).\n"
     ]
    },
    {
     "name": "stdout",
     "output_type": "stream",
     "text": [
      "22/12/16 22:06:54 WARN NativeCodeLoader: Unable to load native-hadoop library for your platform... using builtin-java classes where applicable\n"
     ]
    }
   ],
   "source": [
    "from pyspark.sql import SparkSession\n",
    "\n",
    "spark = SparkSession.builder \\\n",
    "            .config(\"spark.ui.enabled\", \"false\") \\\n",
    "            .config(\"spark.executor.memory\", \"16g\") \\\n",
    "            .config(\"spark.driver.memory\", \"16g\") \\\n",
    "            .config(\"spark.memory.offHeap.enabled\",\"true\") \\\n",
    "            .config(\"spark.memory.offHeap.size\",\"16g\") \\\n",
    "            .getOrCreate()"
   ]
  },
  {
   "cell_type": "code",
   "execution_count": 2,
   "id": "d7400bfb",
   "metadata": {},
   "outputs": [],
   "source": [
    "df_all = spark.read \\\n",
    "        .option(\"header\",True) \\\n",
    "        .option(\"multiLine\",True) \\\n",
    "        .option('sep', ',') \\\n",
    "        .option(\"escape\", \"\\\"\") \\\n",
    "        .csv(\"raw_data/\")"
   ]
  },
  {
   "cell_type": "code",
   "execution_count": 3,
   "id": "67278b08",
   "metadata": {},
   "outputs": [
    {
     "name": "stderr",
     "output_type": "stream",
     "text": [
      "                                                                                \r"
     ]
    },
    {
     "data": {
      "text/plain": [
       "26948807"
      ]
     },
     "execution_count": 3,
     "metadata": {},
     "output_type": "execute_result"
    }
   ],
   "source": [
    "#df_all.show()\n",
    "df_all.count()"
   ]
  },
  {
   "cell_type": "code",
   "execution_count": null,
   "id": "62485c37",
   "metadata": {},
   "outputs": [],
   "source": [
    "text = df_all.select('Text')\n",
    "# Pre-processing 1\n",
    "# get unique data from text => filter based on unique tweets\n",
    "txt_df = text.distinct()\n",
    "txt_df.count()"
   ]
  },
  {
   "cell_type": "code",
   "execution_count": 2,
   "id": "9bc369d3",
   "metadata": {},
   "outputs": [
    {
     "name": "stdout",
     "output_type": "stream",
     "text": [
      "+--------------------+-------------------+--------------------+---------------+\n",
      "|            Datetime|           Tweet Id|                Text|       Username|\n",
      "+--------------------+-------------------+--------------------+---------------+\n",
      "|2022-09-08 00:39:...|1567673915060924417|@fakhrualong Di k...| Moccacinorigin|\n",
      "|2022-05-27 08:56:...|1530110747572719616|Untung botol minu...|    erndshelly_|\n",
      "|2022-04-05 14:15:...|1511346857020215302|(cont) mek e iku ...|  i_m_henpunzel|\n",
      "|2021-11-30 13:54:...|1465680587486752769|@sbyfess 260 boto...|      Mr_M_1927|\n",
      "|2021-10-30 04:28:...|1454304053987463175|@sekar_malam Minu...|        lelahku|\n",
      "|2021-04-21 05:34:...|1384742373297594368|@ursecretex Bapak...|    Anggunleep1|\n",
      "|2021-02-03 15:01:...|1356981244727185411|@Candraasmara85 @...|  RAISYAELBIX1s|\n",
      "|2020-12-28 06:28:...|1343443801021399040|@Myrikhas nek ron...|ellayunusiahaha|\n",
      "|2020-11-07 11:38:...|1325040019338264577|@squidwardfess \"B...|   Dbrowneyes13|\n",
      "|2020-10-25 10:42:...|1320314751369408512|@kanathestar SAK ...|     wodeMewlon|\n",
      "|2019-11-09 04:00:...|1193015376814034945|@ranabud Nang mee...|     Dafriz1407|\n",
      "|2019-05-29 03:35:...|1133577650121764865|Tahun wingi2 nuko...|       Jupez182|\n",
      "|2018-11-26 13:18:...|1067044982358491136|Bapak: Kene nyen ...|     yogidollir|\n",
      "|2022-10-27 00:05:...|1585422279260839938|👩‍🎓 guys buat y...|     sbmptnfess|\n",
      "|2022-10-23 01:30:...|1583994242367893504|@pika_notpikachu ...|tsubaki_laurant|\n",
      "|2022-10-22 02:49:...|1583651729727291392|@PorosHalangID @S...|  BawahnyaPanci|\n",
      "|2022-10-15 02:46:...|1581114264835674112|Kalo punya bos gi...|mercuryinureyes|\n",
      "|2022-10-13 03:57:...|1580407437211074560|Kayaknya materi p...|           praw|\n",
      "|2022-10-06 06:50:...|1577914183483473920|@AzmaDeer Ahahaha...| AzlaPrinzEugen|\n",
      "|2022-10-05 14:53:...|1577673447496220672|@bebasaktif Penas...|   youngnwilder|\n",
      "+--------------------+-------------------+--------------------+---------------+\n",
      "only showing top 20 rows\n",
      "\n"
     ]
    }
   ],
   "source": [
    "df = spark.read \\\n",
    "        .option(\"header\",True) \\\n",
    "        .option(\"multiLine\",True) \\\n",
    "        .option('sep', ',') \\\n",
    "        .option(\"escape\", \"\\\"\") \\\n",
    "        .csv(\"raw_data/tweets-by-keywords-2022-11-09-v01.csv\")\n",
    "\n",
    "df.show()"
   ]
  },
  {
   "cell_type": "code",
   "execution_count": 3,
   "id": "85d55c84",
   "metadata": {},
   "outputs": [
    {
     "name": "stderr",
     "output_type": "stream",
     "text": [
      "                                                                                \r"
     ]
    },
    {
     "data": {
      "text/plain": [
       "1663630"
      ]
     },
     "execution_count": 3,
     "metadata": {},
     "output_type": "execute_result"
    }
   ],
   "source": [
    "df.count()"
   ]
  },
  {
   "cell_type": "code",
   "execution_count": 4,
   "id": "409a7f15",
   "metadata": {},
   "outputs": [
    {
     "name": "stderr",
     "output_type": "stream",
     "text": [
      "                                                                                \r"
     ]
    },
    {
     "data": {
      "text/plain": [
       "1636827"
      ]
     },
     "execution_count": 4,
     "metadata": {},
     "output_type": "execute_result"
    }
   ],
   "source": [
    "text = df.select('Text')\n",
    "# Pre-processing 1\n",
    "# get unique data from text => filter based on unique tweets\n",
    "tdf = text.distinct()\n",
    "tdf.count()"
   ]
  },
  {
   "cell_type": "code",
   "execution_count": null,
   "id": "5a5fa111",
   "metadata": {},
   "outputs": [],
   "source": [
    "df1 = spark.read \\\n",
    "        .option(\"header\",True) \\\n",
    "        .option(\"multiLine\",True) \\\n",
    "        .option('sep', ',') \\\n",
    "        .option(\"escape\", \"\\\"\") \\\n",
    "        .csv(\"raw_data/tweets-by-keywords-2022-11-11-v01.csv\")\n",
    "\n",
    "df1.show()"
   ]
  },
  {
   "cell_type": "code",
   "execution_count": null,
   "id": "3a8defe9",
   "metadata": {},
   "outputs": [],
   "source": [
    "df1.count()"
   ]
  },
  {
   "cell_type": "code",
   "execution_count": null,
   "id": "6c0ec742",
   "metadata": {},
   "outputs": [],
   "source": [
    "df2 = spark.read \\\n",
    "        .option(\"header\",True) \\\n",
    "        .option(\"multiLine\",True) \\\n",
    "        .option('sep', ',') \\\n",
    "        .option(\"escape\", \"\\\"\") \\\n",
    "        .csv(\"raw_data/tweets-by-keywords-2022-11-13-v01.csv\")\n",
    "\n",
    "df2.show()"
   ]
  },
  {
   "cell_type": "code",
   "execution_count": null,
   "id": "93b7b7f7",
   "metadata": {},
   "outputs": [],
   "source": [
    "df2.count()"
   ]
  },
  {
   "cell_type": "code",
   "execution_count": null,
   "id": "94cbd2c8",
   "metadata": {},
   "outputs": [],
   "source": [
    "df3 = spark.read \\\n",
    "        .option(\"header\",True) \\\n",
    "        .option(\"multiLine\",True) \\\n",
    "        .option('sep', ',') \\\n",
    "        .option(\"escape\", \"\\\"\") \\\n",
    "        .csv(\"raw_data/tweets-by-username-2022-11-02.csv\")\n",
    "\n",
    "df3.show()\n"
   ]
  },
  {
   "cell_type": "code",
   "execution_count": null,
   "id": "6b34d3e0",
   "metadata": {},
   "outputs": [],
   "source": [
    "df3.count()"
   ]
  },
  {
   "cell_type": "code",
   "execution_count": null,
   "id": "a1f0c88a",
   "metadata": {},
   "outputs": [],
   "source": [
    "df4 = spark.read \\\n",
    "        .option(\"header\",True) \\\n",
    "        .option(\"multiLine\",True) \\\n",
    "        .option('sep', ',') \\\n",
    "        .option(\"escape\", \"\\\"\") \\\n",
    "        .csv(\"raw_data/tweets-by-keywords-2022-11-15-v01.csv\")\n",
    "\n",
    "df4.show()\n"
   ]
  },
  {
   "cell_type": "code",
   "execution_count": null,
   "id": "b6ab2665",
   "metadata": {},
   "outputs": [],
   "source": [
    "df4.count()"
   ]
  },
  {
   "cell_type": "code",
   "execution_count": null,
   "id": "1fea8e4e",
   "metadata": {},
   "outputs": [],
   "source": [
    "df5 = spark.read \\\n",
    "        .option(\"header\",True) \\\n",
    "        .option(\"multiLine\",True) \\\n",
    "        .option('sep', ',') \\\n",
    "        .option(\"escape\", \"\\\"\") \\\n",
    "        .csv(\"raw_data/tweets-by-keywords-2022-11-18-v01.csv\")\n",
    "\n",
    "df5.show()"
   ]
  },
  {
   "cell_type": "code",
   "execution_count": null,
   "id": "70b6bf73",
   "metadata": {},
   "outputs": [],
   "source": [
    "df5.count()"
   ]
  },
  {
   "cell_type": "code",
   "execution_count": null,
   "id": "265988d2",
   "metadata": {},
   "outputs": [],
   "source": [
    "df6 = spark.read \\\n",
    "        .option(\"header\",True) \\\n",
    "        .option(\"multiLine\",True) \\\n",
    "        .option('sep', ',') \\\n",
    "        .option(\"escape\", \"\\\"\") \\\n",
    "        .csv(\"raw_data/tweets-by-keywords-2022-11-24-v01.csv\")\n",
    "\n",
    "df6.show()"
   ]
  },
  {
   "cell_type": "code",
   "execution_count": null,
   "id": "9891ba4d",
   "metadata": {},
   "outputs": [],
   "source": [
    "df6.count()"
   ]
  },
  {
   "cell_type": "code",
   "execution_count": null,
   "id": "bfd7bec1",
   "metadata": {},
   "outputs": [],
   "source": [
    "df7 = spark.read \\\n",
    "        .option(\"header\",True) \\\n",
    "        .option(\"multiLine\",True) \\\n",
    "        .option('sep', ',') \\\n",
    "        .option(\"escape\", \"\\\"\") \\\n",
    "        .csv(\"raw_data/tweets-by-keywords-2022-12-05-v01.csv\")\n",
    "\n",
    "df7.show()"
   ]
  },
  {
   "cell_type": "code",
   "execution_count": null,
   "id": "9347074f",
   "metadata": {},
   "outputs": [],
   "source": [
    "df7.count()"
   ]
  },
  {
   "cell_type": "code",
   "execution_count": null,
   "id": "261cdce6",
   "metadata": {},
   "outputs": [],
   "source": []
  }
 ],
 "metadata": {
  "kernelspec": {
   "display_name": "conda_env",
   "language": "python",
   "name": "conda_env"
  },
  "language_info": {
   "codemirror_mode": {
    "name": "ipython",
    "version": 3
   },
   "file_extension": ".py",
   "mimetype": "text/x-python",
   "name": "python",
   "nbconvert_exporter": "python",
   "pygments_lexer": "ipython3",
   "version": "3.9.16"
  }
 },
 "nbformat": 4,
 "nbformat_minor": 5
}
