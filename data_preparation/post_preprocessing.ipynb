{
 "cells": [
  {
   "cell_type": "code",
   "execution_count": 2,
   "id": "34260e2e",
   "metadata": {},
   "outputs": [
    {
     "name": "stdout",
     "output_type": "stream",
     "text": [
      "23/02/06 13:12:04 WARN Utils: Your hostname, cds-tesla resolves to a loopback address: 127.0.1.1; using 10.30.31.65 instead (on interface eno0)\n",
      "23/02/06 13:12:04 WARN Utils: Set SPARK_LOCAL_IP if you need to bind to another address\n"
     ]
    },
    {
     "name": "stderr",
     "output_type": "stream",
     "text": [
      "Setting default log level to \"WARN\".\n",
      "To adjust logging level use sc.setLogLevel(newLevel). For SparkR, use setLogLevel(newLevel).\n"
     ]
    },
    {
     "name": "stdout",
     "output_type": "stream",
     "text": [
      "23/02/06 13:12:04 WARN NativeCodeLoader: Unable to load native-hadoop library for your platform... using builtin-java classes where applicable\n"
     ]
    }
   ],
   "source": [
    "from pyspark.sql import SparkSession\n",
    "\n",
    "#spark = SparkSession.builder.getOrCreate()\n",
    "spark = SparkSession.builder \\\n",
    "            .config(\"spark.ui.enabled\", \"false\") \\\n",
    "            .config(\"spark.executor.memory\", \"16g\") \\\n",
    "            .config(\"spark.driver.memory\", \"16g\") \\\n",
    "            .config(\"spark.memory.offHeap.enabled\",\"true\") \\\n",
    "            .config(\"spark.memory.offHeap.size\",\"16g\") \\\n",
    "            .getOrCreate()"
   ]
  },
  {
   "cell_type": "code",
   "execution_count": 4,
   "id": "7408db1c",
   "metadata": {},
   "outputs": [
    {
     "name": "stderr",
     "output_type": "stream",
     "text": [
      "[Stage 0:=======================================================> (50 + 1) / 51]\r"
     ]
    },
    {
     "name": "stdout",
     "output_type": "stream",
     "text": [
      "Num sentences:  66877423\n"
     ]
    },
    {
     "name": "stderr",
     "output_type": "stream",
     "text": [
      "\r",
      "                                                                                \r"
     ]
    }
   ],
   "source": [
    "# read all txt files\n",
    "all_txt_df = spark.read.text(\"../preprocessing/txt_file_all/\")\n",
    "print('Num sentences: ',all_txt_df.count())"
   ]
  },
  {
   "cell_type": "code",
   "execution_count": 5,
   "id": "7bd17927",
   "metadata": {},
   "outputs": [
    {
     "name": "stderr",
     "output_type": "stream",
     "text": [
      "[Stage 5:=====================================================>  (95 + 5) / 100]\r"
     ]
    },
    {
     "name": "stdout",
     "output_type": "stream",
     "text": [
      "N sentence after removing duplicates:  58752894\n"
     ]
    },
    {
     "name": "stderr",
     "output_type": "stream",
     "text": [
      "\r",
      "                                                                                \r"
     ]
    }
   ],
   "source": [
    "distinct_sentence = all_txt_df.distinct()\n",
    "print(\"N sentence after removing duplicates: \",distinct_sentence.count())"
   ]
  },
  {
   "cell_type": "code",
   "execution_count": 12,
   "id": "f9cb42fc",
   "metadata": {},
   "outputs": [
    {
     "name": "stderr",
     "output_type": "stream",
     "text": [
      "[Stage 14:===================================================>    (62 + 5) / 67]\r"
     ]
    },
    {
     "name": "stdout",
     "output_type": "stream",
     "text": [
      "N sentence after removing sentences with less than 5 tokens:  53374077\n"
     ]
    },
    {
     "name": "stderr",
     "output_type": "stream",
     "text": [
      "\r",
      "                                                                                \r"
     ]
    }
   ],
   "source": [
    "# remove sentences with less than 5 tokens\n",
    "from pyspark.sql import functions as F\n",
    "\n",
    "filtered_text = distinct_sentence.filter( F.size(F.split('value', ' ')) >= 5)\n",
    "print(\"N sentence after removing sentences with less than 5 tokens: \",filtered_text.count())"
   ]
  },
  {
   "cell_type": "code",
   "execution_count": 13,
   "id": "0bde5412",
   "metadata": {},
   "outputs": [
    {
     "name": "stderr",
     "output_type": "stream",
     "text": [
      "[Stage 18:======================================================> (50 + 1) / 51]\r"
     ]
    },
    {
     "name": "stdout",
     "output_type": "stream",
     "text": [
      "+--------------------+\n",
      "|               value|\n",
      "+--------------------+\n",
      "|@USER maaf kak ni...|\n",
      "|@USER aku ketingg...|\n",
      "|tapi kek dibuat b...|\n",
      "|emang pacar perfe...|\n",
      "|emang hidup ga ad...|\n",
      "|dgn gaji sebesar ...|\n",
      "|@USER @USER @USER...|\n",
      "|@USER geprek ayam...|\n",
      "|@USER ohoo :0 kem...|\n",
      "|untunge aku ora t...|\n",
      "|@USER @USER foto ...|\n",
      "|@USER @USER worth...|\n",
      "|klo masih coba be...|\n",
      "|orang orang pada ...|\n",
      "|@USER minggir min...|\n",
      "|bismillah kerjaan...|\n",
      "|@USER walahh, soa...|\n",
      "|sayang kamu banya...|\n",
      "|@USER di notif ak...|\n",
      "|tapi kalau emang ...|\n",
      "+--------------------+\n",
      "only showing top 20 rows\n",
      "\n"
     ]
    },
    {
     "name": "stderr",
     "output_type": "stream",
     "text": [
      "\r",
      "[Stage 20:>                                                         (0 + 1) / 1]\r",
      "\r",
      "                                                                                \r"
     ]
    }
   ],
   "source": [
    "filtered_text.show()"
   ]
  },
  {
   "cell_type": "markdown",
   "id": "25f1ce63",
   "metadata": {},
   "source": [
    "### save filtered data into txt"
   ]
  },
  {
   "cell_type": "code",
   "execution_count": 16,
   "id": "59b6fd6a",
   "metadata": {},
   "outputs": [
    {
     "name": "stderr",
     "output_type": "stream",
     "text": [
      "                                                                                \r"
     ]
    }
   ],
   "source": [
    "filtered_text.coalesce(1).write.format(\"text\").option(\"header\", \"false\").mode(\"append\").save(\"output.txt\")"
   ]
  },
  {
   "cell_type": "code",
   "execution_count": 18,
   "id": "e4d33fa1",
   "metadata": {},
   "outputs": [
    {
     "name": "stderr",
     "output_type": "stream",
     "text": [
      "                                                                                \r"
     ]
    },
    {
     "data": {
      "text/plain": [
       "53374077"
      ]
     },
     "execution_count": 18,
     "metadata": {},
     "output_type": "execute_result"
    }
   ],
   "source": [
    "# load all data \n",
    "all_data_df = spark.read.text('all_txt/all_data.txt')\n",
    "all_data_df.count()"
   ]
  },
  {
   "cell_type": "code",
   "execution_count": 19,
   "id": "b1ce6582",
   "metadata": {},
   "outputs": [
    {
     "name": "stdout",
     "output_type": "stream",
     "text": [
      "+--------------------+\n",
      "|               value|\n",
      "+--------------------+\n",
      "|@USER maaf kak ni...|\n",
      "|@USER aku ketingg...|\n",
      "|tapi kek dibuat b...|\n",
      "|emang pacar perfe...|\n",
      "|emang hidup ga ad...|\n",
      "|dgn gaji sebesar ...|\n",
      "|@USER @USER @USER...|\n",
      "|@USER geprek ayam...|\n",
      "|@USER ohoo :0 kem...|\n",
      "|untunge aku ora t...|\n",
      "|@USER @USER foto ...|\n",
      "|@USER @USER worth...|\n",
      "|klo masih coba be...|\n",
      "|orang orang pada ...|\n",
      "|@USER minggir min...|\n",
      "|bismillah kerjaan...|\n",
      "|@USER walahh, soa...|\n",
      "|sayang kamu banya...|\n",
      "|@USER di notif ak...|\n",
      "|tapi kalau emang ...|\n",
      "+--------------------+\n",
      "only showing top 20 rows\n",
      "\n"
     ]
    }
   ],
   "source": [
    "all_data_df.show()"
   ]
  },
  {
   "cell_type": "code",
   "execution_count": null,
   "id": "92423af4",
   "metadata": {},
   "outputs": [],
   "source": []
  }
 ],
 "metadata": {
  "kernelspec": {
   "display_name": "conda_env",
   "language": "python",
   "name": "conda_env"
  },
  "language_info": {
   "codemirror_mode": {
    "name": "ipython",
    "version": 3
   },
   "file_extension": ".py",
   "mimetype": "text/x-python",
   "name": "python",
   "nbconvert_exporter": "python",
   "pygments_lexer": "ipython3",
   "version": "3.9.16"
  }
 },
 "nbformat": 4,
 "nbformat_minor": 5
}
