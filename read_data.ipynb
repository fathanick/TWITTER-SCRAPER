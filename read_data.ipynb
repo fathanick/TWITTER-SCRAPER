{
 "cells": [
  {
   "cell_type": "code",
   "execution_count": 1,
   "id": "4edf777c",
   "metadata": {},
   "outputs": [
    {
     "name": "stdout",
     "output_type": "stream",
     "text": [
      "23/01/26 21:20:28 WARN Utils: Your hostname, cds-tesla resolves to a loopback address: 127.0.1.1; using 10.30.31.65 instead (on interface eno0)\n",
      "23/01/26 21:20:28 WARN Utils: Set SPARK_LOCAL_IP if you need to bind to another address\n"
     ]
    },
    {
     "name": "stderr",
     "output_type": "stream",
     "text": [
      "Setting default log level to \"WARN\".\n",
      "To adjust logging level use sc.setLogLevel(newLevel). For SparkR, use setLogLevel(newLevel).\n"
     ]
    },
    {
     "name": "stdout",
     "output_type": "stream",
     "text": [
      "23/01/26 21:20:29 WARN NativeCodeLoader: Unable to load native-hadoop library for your platform... using builtin-java classes where applicable\n"
     ]
    }
   ],
   "source": [
    "from pyspark.sql import SparkSession\n",
    "\n",
    "spark = SparkSession.builder.getOrCreate()"
   ]
  },
  {
   "cell_type": "code",
   "execution_count": 18,
   "id": "67b2b6ae",
   "metadata": {},
   "outputs": [],
   "source": [
    "# read single file\n",
    "df_1 = spark.read \\\n",
    "        .option(\"header\",True) \\\n",
    "        .option(\"multiLine\",True) \\\n",
    "        .option('sep', ',') \\\n",
    "        .option(\"escape\", \"\\\"\") \\\n",
    "        .csv(\"raw_data/tweets-by-keywords-2022-11-09-v01.csv\")"
   ]
  },
  {
   "cell_type": "code",
   "execution_count": 19,
   "id": "23cab3fa",
   "metadata": {},
   "outputs": [
    {
     "name": "stderr",
     "output_type": "stream",
     "text": [
      "                                                                                \r"
     ]
    },
    {
     "data": {
      "text/plain": [
       "1663630"
      ]
     },
     "execution_count": 19,
     "metadata": {},
     "output_type": "execute_result"
    }
   ],
   "source": [
    "# get number of lines\n",
    "df_1.count()"
   ]
  },
  {
   "cell_type": "code",
   "execution_count": 27,
   "id": "219e219b",
   "metadata": {},
   "outputs": [],
   "source": [
    "# read multiple csv files\n",
    "\n",
    "all_df = spark.read \\\n",
    "            .option(\"header\",True) \\\n",
    "            .option(\"multiLine\",True) \\\n",
    "            .option('sep', ',') \\\n",
    "            .option(\"escape\", \"\\\"\") \\\n",
    "            .csv(\"raw_data/\")"
   ]
  },
  {
   "cell_type": "code",
   "execution_count": 28,
   "id": "de8ee7e1",
   "metadata": {},
   "outputs": [
    {
     "name": "stderr",
     "output_type": "stream",
     "text": [
      "                                                                                \r"
     ]
    },
    {
     "data": {
      "text/plain": [
       "40788384"
      ]
     },
     "execution_count": 28,
     "metadata": {},
     "output_type": "execute_result"
    }
   ],
   "source": [
    "all_df.count()"
   ]
  },
  {
   "cell_type": "code",
   "execution_count": 29,
   "id": "44def351",
   "metadata": {},
   "outputs": [],
   "source": [
    "# read multiple cleaned text files\n",
    "\n",
    "all_txt_df = spark.read.text(\"preprocessing/txt_files/\")"
   ]
  },
  {
   "cell_type": "code",
   "execution_count": 30,
   "id": "e956968b",
   "metadata": {},
   "outputs": [
    {
     "name": "stderr",
     "output_type": "stream",
     "text": [
      "                                                                                \r"
     ]
    },
    {
     "data": {
      "text/plain": [
       "66877423"
      ]
     },
     "execution_count": 30,
     "metadata": {},
     "output_type": "execute_result"
    }
   ],
   "source": [
    "all_txt_df.count()"
   ]
  },
  {
   "cell_type": "code",
   "execution_count": 32,
   "id": "382de9f0",
   "metadata": {},
   "outputs": [
    {
     "name": "stdout",
     "output_type": "stream",
     "text": [
      "5569500481 bytes\n",
      "5311.489563941956 MB\n",
      "5.187001527287066 GB\n"
     ]
    }
   ],
   "source": [
    "# get size folder\n",
    "# import module\n",
    "import os\n",
    " \n",
    "# assign size\n",
    "size = 0\n",
    " \n",
    "# assign folder path\n",
    "Folderpath = 'preprocessing/txt_files/'  \n",
    " \n",
    "# get size\n",
    "for ele in os.scandir(Folderpath):\n",
    "    size+=os.stat(ele).st_size\n",
    "     \n",
    "print(\"{} bytes\".format(size))\n",
    "\n",
    "mb = size/(1024 * 1024)\n",
    "gb = size/(1024 * 1024 * 1024)\n",
    "\n",
    "print(\"{} MB\".format(mb))\n",
    "print(\"{} GB\".format(gb))"
   ]
  },
  {
   "cell_type": "code",
   "execution_count": null,
   "id": "f2deaddb",
   "metadata": {},
   "outputs": [],
   "source": []
  }
 ],
 "metadata": {
  "kernelspec": {
   "display_name": "conda_env",
   "language": "python",
   "name": "conda_env"
  },
  "language_info": {
   "codemirror_mode": {
    "name": "ipython",
    "version": 3
   },
   "file_extension": ".py",
   "mimetype": "text/x-python",
   "name": "python",
   "nbconvert_exporter": "python",
   "pygments_lexer": "ipython3",
   "version": "3.9.16"
  }
 },
 "nbformat": 4,
 "nbformat_minor": 5
}
